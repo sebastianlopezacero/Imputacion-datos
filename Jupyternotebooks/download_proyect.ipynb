{
 "cells": [
  {
   "cell_type": "markdown",
   "metadata": {},
   "source": [
    "# Importar librerias"
   ]
  },
  {
   "cell_type": "code",
   "execution_count": 1,
   "metadata": {},
   "outputs": [
    {
     "name": "stderr",
     "output_type": "stream",
     "text": [
      "/Users/Sebastian/Desktop/Cursos Platzi/missing_imputation/missing_env/lib/python3.9/site-packages/nhanes/load.py:5: DeprecationWarning: pkg_resources is deprecated as an API. See https://setuptools.pypa.io/en/latest/pkg_resources.html\n",
      "  import pkg_resources\n",
      "/Users/Sebastian/Desktop/Cursos Platzi/missing_imputation/missing_env/lib/python3.9/site-packages/pkg_resources/__init__.py:2868: DeprecationWarning: Deprecated call to `pkg_resources.declare_namespace('zope')`.\n",
      "Implementing implicit namespace packages (as specified in PEP 420) is preferred to `pkg_resources.declare_namespace`. See https://setuptools.pypa.io/en/latest/references/keywords.html#keyword-namespace-packages\n",
      "  declare_namespace(pkg)\n",
      "/Users/Sebastian/Desktop/Cursos Platzi/missing_imputation/missing_env/lib/python3.9/site-packages/pkg_resources/__init__.py:2868: DeprecationWarning: Deprecated call to `pkg_resources.declare_namespace('zope')`.\n",
      "Implementing implicit namespace packages (as specified in PEP 420) is preferred to `pkg_resources.declare_namespace`. See https://setuptools.pypa.io/en/latest/references/keywords.html#keyword-namespace-packages\n",
      "  declare_namespace(pkg)\n"
     ]
    }
   ],
   "source": [
    "import janitor\n",
    "import matplotlib.pyplot as plt\n",
    "import missingno\n",
    "import nhanes.load\n",
    "import numpy as np\n",
    "import pandas as pd\n",
    "import scipy.stats\n",
    "import seaborn as sns\n",
    "import session_info\n",
    "import sklearn.compose\n",
    "import sklearn.impute\n",
    "import sklearn.preprocessing\n",
    "import statsmodels.api as sm\n",
    "import statsmodels.datasets\n",
    "import statsmodels.formula.api as smf\n",
    "\n",
    "from sklearn.ensemble import RandomForestRegressor\n",
    "from sklearn.experimental import enable_iterative_imputer\n",
    "from sklearn.kernel_approximation import Nystroem\n",
    "from sklearn.linear_model import BayesianRidge, Ridge\n",
    "from sklearn.neighbors import KNeighborsRegressor\n",
    "from statsmodels.graphics.mosaicplot import mosaic\n",
    "\n",
    "import warnings\n",
    "\n",
    "# Desactivar las advertencias de DeprecationWarning\n",
    "warnings.filterwarnings(\"ignore\")\n",
    "#warnings.filterwarnings(\"ignore\", category=DeprecationWarning)\n"
   ]
  },
  {
   "cell_type": "markdown",
   "metadata": {},
   "source": [
    "# Importar Librerias Personalizadas"
   ]
  },
  {
   "cell_type": "code",
   "execution_count": 2,
   "metadata": {},
   "outputs": [],
   "source": [
    "%run pandas-missing-extension.ipynb"
   ]
  },
  {
   "cell_type": "markdown",
   "metadata": {},
   "source": [
    "# Cargar Datos NHANES\n"
   ]
  },
  {
   "cell_type": "code",
   "execution_count": 35,
   "metadata": {},
   "outputs": [],
   "source": [
    "nhanes_raw_df = (\n",
    "    nhanes.load.load_NHANES_data(year=\"2017-2018\")\n",
    "    .clean_names(case_type=\"snake\") # Para que me de los nombres separados por \"_\"\n",
    ")\n"
   ]
  },
  {
   "cell_type": "code",
   "execution_count": 63,
   "metadata": {},
   "outputs": [],
   "source": [
    "#print(f\"El dataset de tiene {nhanes_raw_df.shape[0]} filas y {nhanes_raw_df.shape[1]} columnas. Para un totla de datos de {nhanes_raw_df.shape[0] * nhanes_raw_df.shape[1]}\")"
   ]
  },
  {
   "cell_type": "markdown",
   "metadata": {},
   "source": [
    "#  Porcesar los datos NHANES"
   ]
  },
  {
   "cell_type": "code",
   "execution_count": 37,
   "metadata": {},
   "outputs": [
    {
     "data": {
      "text/html": [
       "<div>\n",
       "<style scoped>\n",
       "    .dataframe tbody tr th:only-of-type {\n",
       "        vertical-align: middle;\n",
       "    }\n",
       "\n",
       "    .dataframe tbody tr th {\n",
       "        vertical-align: top;\n",
       "    }\n",
       "\n",
       "    .dataframe thead th {\n",
       "        text-align: right;\n",
       "    }\n",
       "</style>\n",
       "<table border=\"1\" class=\"dataframe\">\n",
       "  <thead>\n",
       "    <tr style=\"text-align: right;\">\n",
       "      <th></th>\n",
       "      <th>vigorous_work_activity</th>\n",
       "      <th>moderate_work_activity</th>\n",
       "      <th>vigorous_recreational_activities</th>\n",
       "      <th>moderate_recreational_activities</th>\n",
       "      <th>minutes_sedentary_activity</th>\n",
       "    </tr>\n",
       "    <tr>\n",
       "      <th>SEQN</th>\n",
       "      <th></th>\n",
       "      <th></th>\n",
       "      <th></th>\n",
       "      <th></th>\n",
       "      <th></th>\n",
       "    </tr>\n",
       "  </thead>\n",
       "  <tbody>\n",
       "    <tr>\n",
       "      <th>93703.0</th>\n",
       "      <td>NaN</td>\n",
       "      <td>NaN</td>\n",
       "      <td>NaN</td>\n",
       "      <td>NaN</td>\n",
       "      <td>NaN</td>\n",
       "    </tr>\n",
       "    <tr>\n",
       "      <th>93704.0</th>\n",
       "      <td>NaN</td>\n",
       "      <td>NaN</td>\n",
       "      <td>NaN</td>\n",
       "      <td>NaN</td>\n",
       "      <td>NaN</td>\n",
       "    </tr>\n",
       "    <tr>\n",
       "      <th>93705.0</th>\n",
       "      <td>0.0</td>\n",
       "      <td>0.0</td>\n",
       "      <td>0.0</td>\n",
       "      <td>1.0</td>\n",
       "      <td>300.0</td>\n",
       "    </tr>\n",
       "    <tr>\n",
       "      <th>93706.0</th>\n",
       "      <td>0.0</td>\n",
       "      <td>0.0</td>\n",
       "      <td>0.0</td>\n",
       "      <td>1.0</td>\n",
       "      <td>240.0</td>\n",
       "    </tr>\n",
       "    <tr>\n",
       "      <th>93707.0</th>\n",
       "      <td>NaN</td>\n",
       "      <td>NaN</td>\n",
       "      <td>NaN</td>\n",
       "      <td>NaN</td>\n",
       "      <td>NaN</td>\n",
       "    </tr>\n",
       "    <tr>\n",
       "      <th>...</th>\n",
       "      <td>...</td>\n",
       "      <td>...</td>\n",
       "      <td>...</td>\n",
       "      <td>...</td>\n",
       "      <td>...</td>\n",
       "    </tr>\n",
       "    <tr>\n",
       "      <th>102952.0</th>\n",
       "      <td>0.0</td>\n",
       "      <td>0.0</td>\n",
       "      <td>0.0</td>\n",
       "      <td>1.0</td>\n",
       "      <td>120.0</td>\n",
       "    </tr>\n",
       "    <tr>\n",
       "      <th>102953.0</th>\n",
       "      <td>1.0</td>\n",
       "      <td>1.0</td>\n",
       "      <td>0.0</td>\n",
       "      <td>0.0</td>\n",
       "      <td>360.0</td>\n",
       "    </tr>\n",
       "    <tr>\n",
       "      <th>102954.0</th>\n",
       "      <td>0.0</td>\n",
       "      <td>0.0</td>\n",
       "      <td>0.0</td>\n",
       "      <td>1.0</td>\n",
       "      <td>600.0</td>\n",
       "    </tr>\n",
       "    <tr>\n",
       "      <th>102955.0</th>\n",
       "      <td>NaN</td>\n",
       "      <td>NaN</td>\n",
       "      <td>NaN</td>\n",
       "      <td>NaN</td>\n",
       "      <td>NaN</td>\n",
       "    </tr>\n",
       "    <tr>\n",
       "      <th>102956.0</th>\n",
       "      <td>0.0</td>\n",
       "      <td>0.0</td>\n",
       "      <td>0.0</td>\n",
       "      <td>0.0</td>\n",
       "      <td>720.0</td>\n",
       "    </tr>\n",
       "  </tbody>\n",
       "</table>\n",
       "<p>8366 rows × 5 columns</p>\n",
       "</div>"
      ],
      "text/plain": [
       "          vigorous_work_activity  moderate_work_activity  \\\n",
       "SEQN                                                       \n",
       "93703.0                      NaN                     NaN   \n",
       "93704.0                      NaN                     NaN   \n",
       "93705.0                      0.0                     0.0   \n",
       "93706.0                      0.0                     0.0   \n",
       "93707.0                      NaN                     NaN   \n",
       "...                          ...                     ...   \n",
       "102952.0                     0.0                     0.0   \n",
       "102953.0                     1.0                     1.0   \n",
       "102954.0                     0.0                     0.0   \n",
       "102955.0                     NaN                     NaN   \n",
       "102956.0                     0.0                     0.0   \n",
       "\n",
       "          vigorous_recreational_activities  moderate_recreational_activities  \\\n",
       "SEQN                                                                           \n",
       "93703.0                                NaN                               NaN   \n",
       "93704.0                                NaN                               NaN   \n",
       "93705.0                                0.0                               1.0   \n",
       "93706.0                                0.0                               1.0   \n",
       "93707.0                                NaN                               NaN   \n",
       "...                                    ...                               ...   \n",
       "102952.0                               0.0                               1.0   \n",
       "102953.0                               0.0                               0.0   \n",
       "102954.0                               0.0                               1.0   \n",
       "102955.0                               NaN                               NaN   \n",
       "102956.0                               0.0                               0.0   \n",
       "\n",
       "          minutes_sedentary_activity  \n",
       "SEQN                                  \n",
       "93703.0                          NaN  \n",
       "93704.0                          NaN  \n",
       "93705.0                        300.0  \n",
       "93706.0                        240.0  \n",
       "93707.0                          NaN  \n",
       "...                              ...  \n",
       "102952.0                       120.0  \n",
       "102953.0                       360.0  \n",
       "102954.0                       600.0  \n",
       "102955.0                         NaN  \n",
       "102956.0                       720.0  \n",
       "\n",
       "[8366 rows x 5 columns]"
      ]
     },
     "execution_count": 37,
     "metadata": {},
     "output_type": "execute_result"
    }
   ],
   "source": [
    "nhanes_raw_df.select_columns(\"*activi*\")"
   ]
  },
  {
   "cell_type": "code",
   "execution_count": 58,
   "metadata": {},
   "outputs": [],
   "source": [
    "nhanes_df = (\n",
    "    nhanes_raw_df\n",
    "    .select_columns(\n",
    "        # Selecionamos columnas que deseamos tener del Data Frame original de NHANES\n",
    "        \"general_health_condition\",\n",
    "        \"age_in_years_at_screening\",\n",
    "        \"gender\",\n",
    "        \"current_selfreported_height_inches\",\n",
    "        \"current_selfreported_weight_pounds\",\n",
    "        \"doctor_told_you_have_diabetes\",\n",
    "        \"60_sec_pulse30_sec_pulse2\",\n",
    "        \"total_cholesterol_mgdl\",\n",
    "\n",
    "        \"vigorous_work_activity\",\n",
    "        \"moderate_work_activity\",\n",
    "        \"vigorous_recreational_activities\",\n",
    "        \"moderate_recreational_activities\",\n",
    "        \"minutes_sedentary_activity\"\n",
    "\n",
    "    )\n",
    "    .rename_columns(\n",
    "        # Los nombres de las columnas son complejos, podemos hacerlos mas sencillos\n",
    "        # En forma de diccionario {\"nombre_incial_de_columna\":\"new_name\"}\n",
    "        {\n",
    "        \"age_in_years_at_screening\":\"age\",\n",
    "        \"current_selfreported_height_inches\":\"height\",\n",
    "        \"current_selfreported_weight_pounds\":\"weight\",\n",
    "        \"doctor_told_you_have_diabetes\":\"diebetes\",\n",
    "        \"60_sec_pulse30_sec_pulse2\":\"pulse\",\n",
    "        \"total_cholesterol_mgdl\": \"total_cholesterol\",\n",
    "\n",
    "        }\n",
    "    )\n",
    "    .replace(\n",
    "        # Identificamos los valores que puedes ser nulos gracias al codigo\n",
    "        # sort_values(by=\"name_column\", ascending =True)\n",
    "        {\n",
    "            \"height\": {\n",
    "                9999 : np.nan,\n",
    "                7777 : np.nan\n",
    "            },\n",
    "            \"weight\": {\n",
    "                9999 : np.nan,\n",
    "                7777 : np.nan\n",
    "            },\n",
    "            \"diebetes\":{\n",
    "                \"Borderline\": np.nan\n",
    "            },\n",
    "            \"minutes_sedentary_activity\":{\n",
    "                9999: np.nan,\n",
    "                \n",
    "            }\n",
    "        }\n",
    "    )\n",
    "    \n",
    ")"
   ]
  },
  {
   "cell_type": "code",
   "execution_count": 59,
   "metadata": {},
   "outputs": [],
   "source": [
    "# La columna \"minutes_sedentary_activity\" estaba en notaciín cientifica, era necesario pasarlo a entero\n",
    "nhanes_df['minutes_sedentary_activity'] = (\n",
    "    # Seleccinamos columna y que solo nos muestre valores NO nulos\n",
    "    nhanes_df.loc[nhanes_df['minutes_sedentary_activity'].notna()] # Los valores NO nulos seran de la columna deseada\n",
    "    .select_columns(\"minutes_sedentary_activity\") # Seleccionamos mostrar solo columna deseada\n",
    "    .astype(int) # Los convertimos a enteros\n",
    "    )"
   ]
  },
  {
   "cell_type": "code",
   "execution_count": 62,
   "metadata": {},
   "outputs": [
    {
     "name": "stdout",
     "output_type": "stream",
     "text": [
      "El dataset de tiene 8366 filas y 13 columnas. Para un totla de datos de 108758\n"
     ]
    }
   ],
   "source": [
    "print(f\"El dataset de tiene {nhanes_df.shape[0]} filas y {nhanes_df.shape[1]} columnas. Para un totla de datos de {nhanes_df.shape[0] * nhanes_df.shape[1]}\")"
   ]
  },
  {
   "cell_type": "markdown",
   "metadata": {},
   "source": []
  }
 ],
 "metadata": {
  "kernelspec": {
   "display_name": "missing_env",
   "language": "python",
   "name": "python3"
  },
  "language_info": {
   "codemirror_mode": {
    "name": "ipython",
    "version": 3
   },
   "file_extension": ".py",
   "mimetype": "text/x-python",
   "name": "python",
   "nbconvert_exporter": "python",
   "pygments_lexer": "ipython3",
   "version": "3.9.6"
  }
 },
 "nbformat": 4,
 "nbformat_minor": 2
}
